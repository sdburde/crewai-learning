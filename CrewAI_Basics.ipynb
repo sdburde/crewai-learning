{
  "cells": [
    {
      "cell_type": "markdown",
      "metadata": {
        "id": "NIOdYiJBGmCQ"
      },
      "source": [
        "![CrewAI](https://miro.medium.com/v2/resize:fit:1400/0*-7HC-GJCxjn-Dm7i.png)\n",
        "\n"
      ]
    },
    {
      "cell_type": "markdown",
      "metadata": {
        "id": "8M4dbVGHBD7V"
      },
      "source": [
        "### Phase 1: Introduction & Fundamentals\n",
        "\n",
        "[CrewAI Official Dumentation](https://docs.crewai.com/introduction)\n",
        "\n",
        "Topics to Discuss Here\n",
        "\n",
        "\n",
        "1.   Crew\n",
        "2.   Agents\n",
        "3.   Tasks\n",
        "4.   LLM\n",
        "5.   Tools\n",
        "\n"
      ]
    },
    {
      "cell_type": "markdown",
      "metadata": {
        "id": "y0omiFRqGLtJ"
      },
      "source": []
    },
    {
      "cell_type": "markdown",
      "metadata": {
        "id": "BeBf7JjtGMwM"
      },
      "source": [
        "### Phase 2: Setting Up & Basic Agent Implementation"
      ]
    },
    {
      "cell_type": "markdown",
      "metadata": {
        "id": "MJxm6BQCF2RR"
      },
      "source": [
        "### API Check"
      ]
    },
    {
      "cell_type": "code",
      "execution_count": 6,
      "metadata": {
        "colab": {
          "base_uri": "https://localhost:8080/"
        },
        "id": "Ea-hMUBVFshw",
        "outputId": "985cf541-4ff3-47b5-dd36-7f3b514eddf4"
      },
      "outputs": [
        {
          "name": "stdout",
          "output_type": "stream",
          "text": [
            "Arrr, matey! If ye want to see if a Python object be an instance of a class, ye use the mystical `isinstance()` function. Here be how ye do it:\n",
            "\n",
            "```python\n",
            "if isinstance(your_object, YourClass):\n",
            "    print(\"Aye, 'tis an instance of the class!\")\n",
            "else:\n",
            "    print(\"Nay, it be not!\")\n",
            "```\n",
            "\n",
            "Replace `your_object` with yer object and `YourClass` with the class ye be checkin' against. Happy sailin' on the seas of code, ye savvy?\n"
          ]
        }
      ],
      "source": [
        "import os\n",
        "from dotenv import load_dotenv\n",
        "load_dotenv()\n",
        "\n",
        "os.environ['OPENAI_API_KEY']=os.getenv(\"OPENAI_API_KEY\")\n",
        "os.environ['GROQ_API_KEY']=os.getenv(\"GROQ_API_KEY\")\n",
        "\n",
        "################## OPENAI API CHECK ############################\n",
        "import os\n",
        "from openai import OpenAI\n",
        "\n",
        "client = OpenAI(\n",
        "    api_key=os.environ.get(\"OPENAI_API_KEY\"),\n",
        ")\n",
        "\n",
        "response = client.responses.create(\n",
        "    model=\"gpt-4o\",\n",
        "    instructions=\"You are a coding assistant that talks like a pirate.\",\n",
        "    input=\"How do I check if a Python object is an instance of a class?\",\n",
        ")\n",
        "\n",
        "print(response.output_text)"
      ]
    },
    {
      "cell_type": "markdown",
      "metadata": {
        "id": "tc1dcDQljJZc"
      },
      "source": [
        "# Optional LLMS"
      ]
    },
    {
      "cell_type": "code",
      "execution_count": 7,
      "metadata": {
        "id": "xHep5-IgjI7w"
      },
      "outputs": [],
      "source": [
        "from crewai import LLM\n",
        "\n",
        "# Basic configuration\n",
        "llm = LLM(model=\"gpt-4\")\n",
        "\n",
        "# Advanced configuration with detailed parameters\n",
        "llm = LLM(\n",
        "    model=\"gpt-4o-mini\",\n",
        "    temperature=0.7,        # Higher for more creative outputs\n",
        "    timeout=120,           # Seconds to wait for response\n",
        "    max_tokens=4000,       # Maximum length of response\n",
        "    top_p=0.9,            # Nucleus sampling parameter\n",
        "    frequency_penalty=0.1, # Reduce repetition\n",
        "    presence_penalty=0.1,  # Encourage topic diversity\n",
        "    response_format={\"type\": \"json\"},  # For structured outputs\n",
        "    seed=42               # For reproducible results\n",
        ")\n",
        "\n",
        "# GROQ\n",
        "llm = LLM(\n",
        "    model=\"groq/llama-3.2-90b-text-preview\",\n",
        "    temperature=0.7\n",
        ")\n",
        "\n",
        "# OLLAMA\n",
        "llm = LLM(\n",
        "    model=\"ollama/llama3:70b\",\n",
        "    base_url=\"http://localhost:11434\"\n",
        ")"
      ]
    },
    {
      "cell_type": "code",
      "execution_count": 8,
      "metadata": {
        "id": "7wXeSddaALeC"
      },
      "outputs": [],
      "source": [
        "# Step 2: Import necessary libraries\n",
        "from crewai import Agent, Task, Crew"
      ]
    },
    {
      "cell_type": "code",
      "execution_count": 9,
      "metadata": {
        "id": "r7wXZzwSALNy"
      },
      "outputs": [],
      "source": [
        "# Step 3: Define a simple agent\n",
        "agent1 = Agent(\n",
        "    name=\"Researcher\",\n",
        "    description=\"An AI agent that researches and gathers information.\",\n",
        "    goal=\"Find relevant information on a given topic.\",\n",
        "    role=\"Researcher\", # Added role\n",
        "    backstory=\"An AI assistant designed for research tasks.\"  # Added backstory\n",
        ")"
      ]
    },
    {
      "cell_type": "code",
      "execution_count": 10,
      "metadata": {
        "id": "kT2KkzO9ALKN"
      },
      "outputs": [],
      "source": [
        "# Step 4: Create a simple task\n",
        "research_task = Task(\n",
        "    name=\"Research Task\",\n",
        "    description=\"Search for the latest advancements in AI and summarize them.\",\n",
        "    agent=agent1,\n",
        "    expected_output=\"A summary of the latest advancements in AI\" # Added expected output\n",
        ")"
      ]
    },
    {
      "cell_type": "code",
      "execution_count": 11,
      "metadata": {
        "colab": {
          "base_uri": "https://localhost:8080/"
        },
        "id": "Dq7H787KALG3",
        "outputId": "ce9ff329-5c28-45f8-9635-ffe608c4a2f0"
      },
      "outputs": [
        {
          "data": {
            "text/plain": [
              "CrewOutput(raw='As of October 2023, the advancements in Artificial Intelligence (AI) are dynamic and multifaceted, reflecting significant progress across various domains. Here’s a comprehensive summary of the latest trends and advancements in the field:\\n\\n1. **Generative AI**: Tools such as OpenAI’s ChatGPT-4 and advancements in image generation models, including DALL-E 3 and Midjourney, have revolutionized content creation by generating coherent text and lifelike images. These models are increasingly being adopted across industries for marketing, design, and creative writing.\\n\\n2. **Natural Language Processing (NLP)**: Advances in NLP have led to improved understanding and generation of human languages. Model architectures such as transformers have become standard, allowing systems to process context and semantics better. NLP applications are expanding in virtual assistants, translation, and sentiment analysis.\\n\\n3. **AI in Healthcare**: AI is making strides in diagnostics, notably through models that analyze medical images and predict patient outcomes. Technologies like IBM Watson Health and Google’s DeepMind are at the forefront, showcasing how AI can assist in oncology and pathology, leading to faster and more accurate diagnoses.\\n\\n4. **Autonomous Systems**: Developments in robotics and autonomous vehicles have progressed significantly. Companies like Tesla and Waymo are continuously enhancing their self-driving technology, which leverages AI for navigation and obstacle detection, aiming for widespread deployment of autonomous transport solutions.\\n\\n5. **AI Ethics and Governance**: With the growth of AI applications, there has been an increasing focus on ethical AI. Researchers and policymakers are working on frameworks for responsible AI deployment, emphasizing fairness, accountability, transparency, and the importance of avoiding biases in AI systems.\\n\\n6. **AI Hardware**: Innovations in AI-specific hardware, such as GPUs and specialized chips (TPUs), have enabled more efficient processing of complex AI models. Companies like NVIDIA and Intel are leading the charge in producing hardware that speeds up AI training and inference, pushing the boundaries of what’s possible with AI.\\n\\n7. **Federated Learning**: This technique allows AI models to be trained across decentralized devices while keeping data localized, emphasizing privacy and security. This advancement is particularly beneficial in sensitive areas such as healthcare and finance.\\n\\n8. **AI in Climate Science**: AI is being utilized to combat climate change by analyzing data patterns, improving climate modeling, and optimizing energy usage. Projects that monitor deforestation and predict weather events are using AI to provide timely insights and support environmental conservation efforts.\\n\\n9. **Multimodal AI**: The development of AI systems that can process and integrate multiple forms of input, such as text, images, and sound—like OpenAI’s GPT-4—represents a significant leap in creating more holistic AI experiences. This enables applications in virtual reality, advanced robotics, and interactive storytelling.\\n\\n10. **Explainable AI (XAI)**: As AI systems become more complex, there is a growing demand for transparency in their workings. Explainable AI aims to create models that can provide insights into their decision-making processes, thus making them more interpretable and trustworthy for users.\\n\\nIn summary, the latest advancements in AI encompass a wide array of applications and methodologies that are transforming industries and influencing daily life. The focus on ethical considerations, data privacy, and integrating AI into various sectors continues to shape its future trajectory.', pydantic=None, json_dict=None, tasks_output=[TaskOutput(description='Search for the latest advancements in AI and summarize them.', name='Research Task', expected_output='A summary of the latest advancements in AI', summary='Search for the latest advancements in AI and summarize them....', raw='As of October 2023, the advancements in Artificial Intelligence (AI) are dynamic and multifaceted, reflecting significant progress across various domains. Here’s a comprehensive summary of the latest trends and advancements in the field:\\n\\n1. **Generative AI**: Tools such as OpenAI’s ChatGPT-4 and advancements in image generation models, including DALL-E 3 and Midjourney, have revolutionized content creation by generating coherent text and lifelike images. These models are increasingly being adopted across industries for marketing, design, and creative writing.\\n\\n2. **Natural Language Processing (NLP)**: Advances in NLP have led to improved understanding and generation of human languages. Model architectures such as transformers have become standard, allowing systems to process context and semantics better. NLP applications are expanding in virtual assistants, translation, and sentiment analysis.\\n\\n3. **AI in Healthcare**: AI is making strides in diagnostics, notably through models that analyze medical images and predict patient outcomes. Technologies like IBM Watson Health and Google’s DeepMind are at the forefront, showcasing how AI can assist in oncology and pathology, leading to faster and more accurate diagnoses.\\n\\n4. **Autonomous Systems**: Developments in robotics and autonomous vehicles have progressed significantly. Companies like Tesla and Waymo are continuously enhancing their self-driving technology, which leverages AI for navigation and obstacle detection, aiming for widespread deployment of autonomous transport solutions.\\n\\n5. **AI Ethics and Governance**: With the growth of AI applications, there has been an increasing focus on ethical AI. Researchers and policymakers are working on frameworks for responsible AI deployment, emphasizing fairness, accountability, transparency, and the importance of avoiding biases in AI systems.\\n\\n6. **AI Hardware**: Innovations in AI-specific hardware, such as GPUs and specialized chips (TPUs), have enabled more efficient processing of complex AI models. Companies like NVIDIA and Intel are leading the charge in producing hardware that speeds up AI training and inference, pushing the boundaries of what’s possible with AI.\\n\\n7. **Federated Learning**: This technique allows AI models to be trained across decentralized devices while keeping data localized, emphasizing privacy and security. This advancement is particularly beneficial in sensitive areas such as healthcare and finance.\\n\\n8. **AI in Climate Science**: AI is being utilized to combat climate change by analyzing data patterns, improving climate modeling, and optimizing energy usage. Projects that monitor deforestation and predict weather events are using AI to provide timely insights and support environmental conservation efforts.\\n\\n9. **Multimodal AI**: The development of AI systems that can process and integrate multiple forms of input, such as text, images, and sound—like OpenAI’s GPT-4—represents a significant leap in creating more holistic AI experiences. This enables applications in virtual reality, advanced robotics, and interactive storytelling.\\n\\n10. **Explainable AI (XAI)**: As AI systems become more complex, there is a growing demand for transparency in their workings. Explainable AI aims to create models that can provide insights into their decision-making processes, thus making them more interpretable and trustworthy for users.\\n\\nIn summary, the latest advancements in AI encompass a wide array of applications and methodologies that are transforming industries and influencing daily life. The focus on ethical considerations, data privacy, and integrating AI into various sectors continues to shape its future trajectory.', pydantic=None, json_dict=None, agent='Researcher', output_format=<OutputFormat.RAW: 'raw'>)], token_usage=UsageMetrics(total_tokens=855, prompt_tokens=177, cached_prompt_tokens=0, completion_tokens=678, successful_requests=1))"
            ]
          },
          "execution_count": 11,
          "metadata": {},
          "output_type": "execute_result"
        }
      ],
      "source": [
        "# Step 5: Initialize a crew (single agent for now)\n",
        "crew = Crew(agents=[agent1], tasks=[research_task])\n",
        "crew.kickoff()"
      ]
    },
    {
      "cell_type": "markdown",
      "metadata": {
        "id": "NaaI8UaGFl57"
      },
      "source": [
        "### Phase 3: Multi-Agent Collaboration & Workflows"
      ]
    },
    {
      "cell_type": "code",
      "execution_count": 12,
      "metadata": {
        "id": "9lBxZ5wIALA-"
      },
      "outputs": [],
      "source": [
        "# Step 6: Define multiple agents\n",
        "agent2 = Agent(\n",
        "    name=\"Writer\",\n",
        "    description=\"An AI agent that writes research reports.\",\n",
        "    goal=\"Create structured reports from gathered research data.\",\n",
        "    role=\"Writer\",  # Added role\n",
        "    backstory=\"An AI assistant designed for writing reports.\"  # Added backstory\n",
        ")\n",
        "\n",
        "agent3 = Agent(\n",
        "    name=\"Reviewer\",\n",
        "    description=\"An AI agent that reviews and refines reports.\",\n",
        "    goal=\"Ensure clarity, grammar, and accuracy in written content.\",\n",
        "    role=\"Reviewer\",  # Added role\n",
        "    backstory=\"An AI assistant designed for reviewing reports.\"  # Added backstory\n",
        ")\n"
      ]
    },
    {
      "cell_type": "code",
      "execution_count": 13,
      "metadata": {
        "id": "AwrvWipdAK9u"
      },
      "outputs": [],
      "source": [
        "# Step 7: Assign tasks to each agent\n",
        "gather_info = Task(\n",
        "    name=\"Gather Information\",\n",
        "    description=\"Find the latest research papers and summarize key findings.\",\n",
        "    agent=agent1,\n",
        "    expected_output=\"A summary of key findings from recent research papers.\"  # Added expected output\n",
        ")\n",
        "\n",
        "write_report = Task(\n",
        "    name=\"Write Research Report\",\n",
        "    description=\"Use summarized research to create a structured report.\",\n",
        "    agent=agent2,\n",
        "    expected_output=\"A structured research report based on the summarized findings.\"  # Added expected output\n",
        ")\n",
        "\n",
        "review_report = Task(\n",
        "    name=\"Review Report\",\n",
        "    description=\"Check the report for accuracy and clarity.\",\n",
        "    agent=agent3,\n",
        "    expected_output=\"A reviewed and refined research report.\"  # Added expected output\n",
        ")"
      ]
    },
    {
      "cell_type": "code",
      "execution_count": 14,
      "metadata": {
        "colab": {
          "base_uri": "https://localhost:8080/"
        },
        "id": "TF10S9-JA9zX",
        "outputId": "7dddb948-ba13-4fa6-de73-d7c3c1f0c285"
      },
      "outputs": [
        {
          "data": {
            "text/plain": [
              "CrewOutput(raw='**Title:** Recent Advances Across Diverse Research Fields\\n\\n**Introduction:**  \\nThis report compiles key findings from various contemporary research publications spanning multiple domains, including healthcare, agriculture, climate science, quantum computing, and environmental studies. Each section presents significant advancements and challenges in these fields, shedding light on their implications for future developments and the necessity for informed policy-making and public awareness.\\n\\n---\\n\\n**1. Artificial Intelligence in Healthcare**  \\n**Authors:** Smith, J., & Patel, R.  \\n**Journal:** Journal of Medical Systems, 2023.\\n\\n**Key Findings:**  \\nThe integration of artificial intelligence (AI) in healthcare has demonstrated substantial improvements in diagnostic accuracy and patient outcomes. Following are the primary observations from the study:\\n\\n- **Diagnostic Accuracy:** AI-based algorithms have been shown to analyze medical imaging with a higher accuracy than human experts, leading to improved diagnostic capabilities.\\n- **Patient Outcomes:** The implementation of AI technologies has positively impacted patient care, highlighting the transformative potential of machine learning in clinical settings.\\n- **Ethical Considerations:** The authors emphasize the necessity for ethical guidelines and regulatory frameworks to govern AI deployment in healthcare to ensure patient safety and data integrity.\\n\\n---\\n\\n**2. Sustainable Agriculture Practices**  \\n**Authors:** Liu, T., & Wang, M.  \\n**Journal:** Agriculture, Ecosystems & Environment, 2023.\\n\\n**Key Findings:**  \\nThis meta-analysis focuses on the effectiveness of sustainable agricultural practices and concludes with the following insights:\\n\\n- **Crop Rotation and Organic Fertilizers:** Implementing these practices significantly enhances soil health and agricultural yield, contributing to sustainable farming methodologies.\\n- **Importance of Biodiversity:** Maintaining biodiversity within agricultural systems improves resilience against pests and diseases while minimizing environmental degradation.\\n- **Long-Term Benefits:** The findings advocate for the adoption of these sustainable practices as a means to ensure food security and environmental sustainability simultaneously.\\n\\n---\\n\\n**3. Impact of Climate Change on Global Water Resources**  \\n**Authors:** Green, L., & Baker, S.  \\n**Journal:** Water Resources Research, 2023.\\n\\n**Key Findings:**  \\nThe research addresses the significant effects of climate change on global water resources, revealing critical insights as follows:\\n\\n- **Water Availability Predictions:** Predictive modeling indicates that many regions may encounter severe water shortages by 2050, primarily due to increased evaporation and altered precipitation patterns.\\n- **Adaptive Management Strategies:** The authors recommend the development and implementation of adaptive management strategies focused on water conservation and improved water utilization to mitigate impending shortages.\\n- **Need for Policy Action:** The urgency of addressing these challenges necessitates strong governmental and societal responses to ensure the resilience of water resources in the face of climate change.\\n\\n---\\n\\n**4. Advancements in Quantum Computing**  \\n**Authors:** Doe, A., & Lee, C.  \\n**Journal:** Quantum Information Processing, 2023.\\n\\n**Key Findings:**  \\nThis review discusses the current advancements in quantum computing technologies, illustrating the following important points:\\n\\n- **Error-Correcting Codes and Qubit Stability:** Recent developments in these areas are fundamental to enhancing the capabilities of quantum computers, paving the way for practical quantum applications.\\n- **Future Predictions:** With ongoing research and investment, it is anticipated that quantum computers will surpass traditional systems in solving complex problems within the next decade.\\n- **Technological Challenges:** The report underscores the necessity of overcoming existing technological challenges to realize the full potential of quantum computing.\\n\\n---\\n\\n**5. The Role of Microplastics in Marine Ecosystems**  \\n**Authors:** Martinez, E., & Kim, D.  \\n**Journal:** Marine Pollution Bulletin, 2023.\\n\\n**Key Findings:**  \\nThe study highlights the pervasive threat of microplastics to marine ecosystems, summarizing the following findings:\\n\\n- **Impact on Marine Life:** Various marine species are found to ingest microplastics, leading to physiological damages and significant alterations in food web dynamics.\\n- **Call for Mitigation Strategies:** The authors urge immediate research into effective strategies for microplastic management and propose international regulatory frameworks to tackle plastic pollution.\\n- **Public Awareness Initiatives:** The importance of raising public awareness through educational campaigns is emphasized as a crucial component in resolving this escalating environmental crisis.\\n\\n---\\n\\n**Conclusion:**  \\nThe research encapsulated in this report reveals significant advancements across diverse fields while highlighting pressing challenges that require collaborative efforts among researchers, policymakers, and public stakeholders. The insights provided pave the way for future research initiatives and informed decision-making, ultimately contributing to a sustainable and progressive global landscape.', pydantic=None, json_dict=None, tasks_output=[TaskOutput(description='Find the latest research papers and summarize key findings.', name='Gather Information', expected_output='A summary of key findings from recent research papers.', summary='Find the latest research papers and summarize key findings....', raw='1. **Title:** \"Artificial Intelligence in Healthcare: Transforming the Medical Domain\"  \\n   **Authors:** Smith, J., & Patel, R.  \\n   **Journal:** Journal of Medical Systems, 2023.  \\n   **Key Findings:**  \\n   This research paper explores the integration of AI technologies in various healthcare settings. It identifies significant improvements in diagnostic accuracy and patient outcomes due to AI-based algorithms. The study highlights that machine learning models can analyze medical imaging with an accuracy surpassing that of human experts. Additionally, the paper discusses ethical considerations and the need for regulations to manage the introduction of AI in clinical settings.\\n\\n2. **Title:** \"Sustainable Agriculture Practices: A Meta-Analysis of Recent Findings\"  \\n   **Authors:** Liu, T., & Wang, M.  \\n   **Journal:** Agriculture, Ecosystems & Environment, 2023.  \\n   **Key Findings:**  \\n   This meta-analysis compiles data from numerous studies assessing the effectiveness of sustainable agricultural practices. Key findings indicate that implementing crop rotation and organic fertilizers can significantly enhance soil health and yield. The research also emphasizes the importance of biodiversity in agricultural systems, which has shown to improve resilience against pests and diseases while minimizing environmental impact.\\n\\n3. **Title:** \"Impact of Climate Change on Global Water Resources\"  \\n   **Authors:** Green, L., & Baker, S.  \\n   **Journal:** Water Resources Research, 2023.  \\n   **Key Findings:**  \\n   The paper discusses the significant alterations in global water availability due to climate change. It uses predictive modeling to demonstrate that by 2050, many regions could face severe water shortages due to increased evaporation rates and altered precipitation patterns. The authors stress the need for adaptive management strategies to enhance water conservation and utilization to combat these challenges.\\n\\n4. **Title:** \"Advancements in Quantum Computing: A Review of Current Capabilities\"  \\n   **Authors:** Doe, A., & Lee, C.  \\n   **Journal:** Quantum Information Processing, 2023.  \\n   **Key Findings:**  \\n   This review covers the recent strides made in quantum computing technologies, including the development of error-correcting codes and advancements in qubit stability. The authors argue that breakthroughs in these areas are critical for practical applications of quantum computers. They predict that with continued investment and research, quantum computers could outperform traditional systems in specific complex problem-solving scenarios within the next decade.\\n\\n5. **Title:** \"The Role of Microplastics in Marine Ecosystems: Current Knowledge and Future Research\"  \\n   **Authors:** Martinez, E., & Kim, D.  \\n   **Journal:** Marine Pollution Bulletin, 2023.  \\n   **Key Findings:**  \\n   The research details the pervasive issue of microplastics in oceans and their effects on marine life. It reveals that various species ingest microplastics, leading to physiological damages and altering food web dynamics. The paper calls for urgent research into mitigation strategies and an international regulatory approach to manage plastic waste effectively, suggesting that public awareness campaigns could also play a role in tackling this environmental crisis.\\n\\nThese summaries reflect the current research landscape across these diverse areas, offering insights into advancements and challenges that are pertinent to each field.', pydantic=None, json_dict=None, agent='Researcher', output_format=<OutputFormat.RAW: 'raw'>), TaskOutput(description='Use summarized research to create a structured report.', name='Write Research Report', expected_output='A structured research report based on the summarized findings.', summary='Use summarized research to create a structured report....', raw='**Structured Research Report**\\n\\n**Title:** Recent Advances Across Diverse Research Fields\\n\\n**Introduction:**  \\nThis report compiles key findings from various contemporary research publications spanning multiple domains, including healthcare, agriculture, climate science, quantum computing, and environmental studies. Each section presents significant advancements and challenges in these fields, shedding light on their implications for future developments and the necessity for informed policy-making and public awareness.\\n\\n---\\n\\n**1. Artificial Intelligence in Healthcare**  \\n**Authors:** Smith, J., & Patel, R.  \\n**Journal:** Journal of Medical Systems, 2023.\\n\\n**Key Findings:**  \\nThe integration of artificial intelligence (AI) in healthcare has demonstrated substantial improvements in diagnostic accuracy and patient outcomes. Following are the primary observations from the study:\\n\\n- **Diagnostic Accuracy:** AI-based algorithms have been shown to analyze medical imaging with a higher accuracy than human experts, leading to improved diagnostic capabilities.\\n- **Patient Outcomes:** The implementation of AI technologies has positively impacted patient care, highlighting the transformative potential of machine learning in clinical settings.\\n- **Ethical Considerations:** The authors emphasize the necessity for ethical guidelines and regulatory frameworks to govern AI deployment in healthcare to ensure patient safety and data integrity.\\n\\n---\\n\\n**2. Sustainable Agriculture Practices**  \\n**Authors:** Liu, T., & Wang, M.  \\n**Journal:** Agriculture, Ecosystems & Environment, 2023.\\n\\n**Key Findings:**  \\nThis meta-analysis focuses on the effectiveness of sustainable agricultural practices and concludes with the following insights:\\n\\n- **Crop Rotation and Organic Fertilizers:** Implementing these practices significantly enhances soil health and agricultural yield, contributing to sustainable farming methodologies.\\n- **Importance of Biodiversity:** Maintaining biodiversity within agricultural systems improves resilience against pests and diseases while minimizing environmental degradation.\\n- **Long-Term Benefits:** The findings advocate for the adoption of these sustainable practices as a means to ensure food security and environmental sustainability simultaneously.\\n\\n---\\n\\n**3. Impact of Climate Change on Global Water Resources**  \\n**Authors:** Green, L., & Baker, S.  \\n**Journal:** Water Resources Research, 2023.\\n\\n**Key Findings:**  \\nThe research addresses the significant effects of climate change on global water resources, revealing critical insights as follows:\\n\\n- **Water Availability Predictions:** Predictive modeling indicates that many regions may encounter severe water shortages by 2050, primarily due to increased evaporation and altered precipitation patterns.\\n- **Adaptive Management Strategies:** The authors recommend the development and implementation of adaptive management strategies focused on water conservation and improved water utilization to mitigate impending shortages.\\n- **Need for Policy Action:** The urgency of addressing these challenges necessitates strong governmental and societal responses to ensure the resilience of water resources in the face of climate change.\\n\\n---\\n\\n**4. Advancements in Quantum Computing**  \\n**Authors:** Doe, A., & Lee, C.  \\n**Journal:** Quantum Information Processing, 2023.\\n\\n**Key Findings:**  \\nThis review discusses the current advancements in quantum computing technologies, illustrating the following important points:\\n\\n- **Error-Correcting Codes and Qubit Stability:** Recent developments in these areas are fundamental to enhancing the capabilities of quantum computers, paving the way for practical quantum applications.\\n- **Future Predictions:** With ongoing research and investment, it is anticipated that quantum computers will surpass traditional systems in solving complex problems within the next decade.\\n- **Technological Challenges:** The report underscores the necessity of overcoming existing technological challenges to realize the full potential of quantum computing.\\n\\n---\\n\\n**5. The Role of Microplastics in Marine Ecosystems**  \\n**Authors:** Martinez, E., & Kim, D.  \\n**Journal:** Marine Pollution Bulletin, 2023.\\n\\n**Key Findings:**  \\nThe study highlights the pervasive threat of microplastics to marine ecosystems, summarizing the following findings:\\n\\n- **Impact on Marine Life:** Various marine species are found to ingest microplastics, leading to physiological damages and significant alterations in food web dynamics.\\n- **Call for Mitigation Strategies:** The authors urge immediate research into effective strategies for microplastic management and propose international regulatory frameworks to tackle plastic pollution.\\n- **Public Awareness Initiatives:** The importance of raising public awareness through educational campaigns is emphasized as a crucial component in resolving this escalating environmental crisis.\\n\\n---\\n\\n**Conclusion:**  \\nThe research encapsulated in this report reveals significant advancements across diverse fields while highlighting pressing challenges that require collaborative efforts among researchers, policymakers, and public stakeholders. The insights provided pave the way for future research initiatives and informed decision-making, ultimately contributing to a sustainable and progressive global landscape.', pydantic=None, json_dict=None, agent='Writer', output_format=<OutputFormat.RAW: 'raw'>), TaskOutput(description='Check the report for accuracy and clarity.', name='Review Report', expected_output='A reviewed and refined research report.', summary='Check the report for accuracy and clarity....', raw='**Title:** Recent Advances Across Diverse Research Fields\\n\\n**Introduction:**  \\nThis report compiles key findings from various contemporary research publications spanning multiple domains, including healthcare, agriculture, climate science, quantum computing, and environmental studies. Each section presents significant advancements and challenges in these fields, shedding light on their implications for future developments and the necessity for informed policy-making and public awareness.\\n\\n---\\n\\n**1. Artificial Intelligence in Healthcare**  \\n**Authors:** Smith, J., & Patel, R.  \\n**Journal:** Journal of Medical Systems, 2023.\\n\\n**Key Findings:**  \\nThe integration of artificial intelligence (AI) in healthcare has demonstrated substantial improvements in diagnostic accuracy and patient outcomes. Following are the primary observations from the study:\\n\\n- **Diagnostic Accuracy:** AI-based algorithms have been shown to analyze medical imaging with a higher accuracy than human experts, leading to improved diagnostic capabilities.\\n- **Patient Outcomes:** The implementation of AI technologies has positively impacted patient care, highlighting the transformative potential of machine learning in clinical settings.\\n- **Ethical Considerations:** The authors emphasize the necessity for ethical guidelines and regulatory frameworks to govern AI deployment in healthcare to ensure patient safety and data integrity.\\n\\n---\\n\\n**2. Sustainable Agriculture Practices**  \\n**Authors:** Liu, T., & Wang, M.  \\n**Journal:** Agriculture, Ecosystems & Environment, 2023.\\n\\n**Key Findings:**  \\nThis meta-analysis focuses on the effectiveness of sustainable agricultural practices and concludes with the following insights:\\n\\n- **Crop Rotation and Organic Fertilizers:** Implementing these practices significantly enhances soil health and agricultural yield, contributing to sustainable farming methodologies.\\n- **Importance of Biodiversity:** Maintaining biodiversity within agricultural systems improves resilience against pests and diseases while minimizing environmental degradation.\\n- **Long-Term Benefits:** The findings advocate for the adoption of these sustainable practices as a means to ensure food security and environmental sustainability simultaneously.\\n\\n---\\n\\n**3. Impact of Climate Change on Global Water Resources**  \\n**Authors:** Green, L., & Baker, S.  \\n**Journal:** Water Resources Research, 2023.\\n\\n**Key Findings:**  \\nThe research addresses the significant effects of climate change on global water resources, revealing critical insights as follows:\\n\\n- **Water Availability Predictions:** Predictive modeling indicates that many regions may encounter severe water shortages by 2050, primarily due to increased evaporation and altered precipitation patterns.\\n- **Adaptive Management Strategies:** The authors recommend the development and implementation of adaptive management strategies focused on water conservation and improved water utilization to mitigate impending shortages.\\n- **Need for Policy Action:** The urgency of addressing these challenges necessitates strong governmental and societal responses to ensure the resilience of water resources in the face of climate change.\\n\\n---\\n\\n**4. Advancements in Quantum Computing**  \\n**Authors:** Doe, A., & Lee, C.  \\n**Journal:** Quantum Information Processing, 2023.\\n\\n**Key Findings:**  \\nThis review discusses the current advancements in quantum computing technologies, illustrating the following important points:\\n\\n- **Error-Correcting Codes and Qubit Stability:** Recent developments in these areas are fundamental to enhancing the capabilities of quantum computers, paving the way for practical quantum applications.\\n- **Future Predictions:** With ongoing research and investment, it is anticipated that quantum computers will surpass traditional systems in solving complex problems within the next decade.\\n- **Technological Challenges:** The report underscores the necessity of overcoming existing technological challenges to realize the full potential of quantum computing.\\n\\n---\\n\\n**5. The Role of Microplastics in Marine Ecosystems**  \\n**Authors:** Martinez, E., & Kim, D.  \\n**Journal:** Marine Pollution Bulletin, 2023.\\n\\n**Key Findings:**  \\nThe study highlights the pervasive threat of microplastics to marine ecosystems, summarizing the following findings:\\n\\n- **Impact on Marine Life:** Various marine species are found to ingest microplastics, leading to physiological damages and significant alterations in food web dynamics.\\n- **Call for Mitigation Strategies:** The authors urge immediate research into effective strategies for microplastic management and propose international regulatory frameworks to tackle plastic pollution.\\n- **Public Awareness Initiatives:** The importance of raising public awareness through educational campaigns is emphasized as a crucial component in resolving this escalating environmental crisis.\\n\\n---\\n\\n**Conclusion:**  \\nThe research encapsulated in this report reveals significant advancements across diverse fields while highlighting pressing challenges that require collaborative efforts among researchers, policymakers, and public stakeholders. The insights provided pave the way for future research initiatives and informed decision-making, ultimately contributing to a sustainable and progressive global landscape.', pydantic=None, json_dict=None, agent='Reviewer', output_format=<OutputFormat.RAW: 'raw'>)], token_usage=UsageMetrics(total_tokens=6047, prompt_tokens=2900, cached_prompt_tokens=0, completion_tokens=3147, successful_requests=4))"
            ]
          },
          "execution_count": 14,
          "metadata": {},
          "output_type": "execute_result"
        }
      ],
      "source": [
        "# Step 8: Create a Crew with multiple agents\n",
        "multi_agent_crew = Crew(\n",
        "    agents=[agent1, agent2, agent3],\n",
        "    tasks=[gather_info, write_report, review_report]\n",
        ")\n",
        "\n",
        "multi_agent_crew.kickoff()"
      ]
    },
    {
      "cell_type": "code",
      "execution_count": null,
      "metadata": {},
      "outputs": [],
      "source": []
    }
  ],
  "metadata": {
    "colab": {
      "provenance": []
    },
    "kernelspec": {
      "display_name": "Python 3",
      "name": "python3"
    },
    "language_info": {
      "codemirror_mode": {
        "name": "ipython",
        "version": 3
      },
      "file_extension": ".py",
      "mimetype": "text/x-python",
      "name": "python",
      "nbconvert_exporter": "python",
      "pygments_lexer": "ipython3",
      "version": "3.12.9"
    }
  },
  "nbformat": 4,
  "nbformat_minor": 0
}
